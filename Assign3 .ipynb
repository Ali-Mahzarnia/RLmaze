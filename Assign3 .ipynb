{
 "cells": [
  {
   "cell_type": "markdown",
   "metadata": {},
   "source": [
    "# Assignment #3 - Reinforcement Learning\n",
    "\n",
    Ali Mahzarnia
    "### "
   ]
  },
  {
   "cell_type": "code",
   "execution_count": null,
   "metadata": {},
   "outputs": [],
   "source": []
  },
  {
   "cell_type": "markdown",
   "metadata": {},
   "source": [
    "<font color=\"blue\"> Ali Mahzarnia </font>"
   ]
  },
  {
   "cell_type": "markdown",
   "metadata": {},
   "source": [
    "# I. Overview\n",
    "\n",
    "In this assignment, we try to implement the reinforcement learning to find the right path in a maze."
   ]
  },
  {
   "cell_type": "markdown",
   "metadata": {},
   "source": [
    "# II. Problems \n",
    "\n",
    "## A. Maze Problem (Practice)\n",
    "\n",
    "Description of maze problem:\n",
    "In this problem we first set a fixed maze, (Four outside walls, and some inside wall, a starting point and a goal). We let the random decision lead the way for multiple times. We reward getting close to goal , and we heavily punish hitting the wall by negative infinity reward. The transition matrix, which is updated through the many simulations can help us to find the maze from a new starting point. To update the transition matrix Q we can take Q learning or SARSA approach."
   ]
  },
  {
   "cell_type": "code",
   "execution_count": 1,
   "metadata": {},
   "outputs": [],
   "source": [
    "import collections\n",
    "import numpy as np\n",
    "import matplotlib.pyplot as plt\n",
    "%matplotlib inline"
   ]
  },
  {
   "cell_type": "markdown",
   "metadata": {},
   "source": [
    "### Sample Grid Environment File\n",
    "\n",
    "Simple text file with three characters, 'O', 'H', and 'G'.\n",
    "- 'O': open space\n",
    "- 'H': Wall or obstacles\n",
    "- 'G': Goal location "
   ]
  },
  {
   "cell_type": "code",
   "execution_count": 2,
   "metadata": {},
   "outputs": [
    {
     "name": "stdout",
     "output_type": "stream",
     "text": [
      "OOOHOOOOO\n",
      "OOOHOOHOO\n",
      "OOOOOOHOO\n",
      "OOOOHHHOO\n",
      "OOHOOOOOH\n",
      "OOHOOOGOO\n",
      "OOOOOOOOO"
     ]
    }
   ],
   "source": [
    "%%bash \n",
    "cat grid.txt"
   ]
  },
  {
   "cell_type": "markdown",
   "metadata": {},
   "source": [
    "### GridWorld Class\n"
   ]
  },
  {
   "cell_type": "code",
   "execution_count": 3,
   "metadata": {},
   "outputs": [],
   "source": [
    "# maze example\n",
    "\n",
    "class GridWorld:\n",
    "    \"\"\" Grid World environment\n",
    "            there are four actions (left, right, up, and down) to move an agent\n",
    "            In a grid, if it reaches a goal, it get 30 points of reward.\n",
    "            If it falls in a hole or moves out of the grid world, it gets -5.\n",
    "            Each step costs -1 point. \n",
    "\n",
    "        to test GridWorld, run the following sample codes:\n",
    "\n",
    "            env = GridWorld('grid.txt')\n",
    "\n",
    "            env.print_map()\n",
    "            print [2,3], env.check_state([2,3])\n",
    "            print [0,0], env.check_state([0,0])\n",
    "            print [3,4], env.check_state([3,4])\n",
    "            print [10,3], env.check_state([10,3])\n",
    "\n",
    "            env.init([0,0])\n",
    "            print env.next(1)  # right\n",
    "            print env.next(3)  # down\n",
    "            print env.next(0)  # left\n",
    "            print env.next(2)  # up\n",
    "            print env.next(2)  # up\n",
    "\n",
    "        Parameters\n",
    "        ==========\n",
    "        _map        ndarray\n",
    "                    string array read from a file input\n",
    "        _size       1d array\n",
    "                    the size of _map in ndarray\n",
    "        goal_pos    tuple\n",
    "                    the index for the goal location\n",
    "        _actions    list\n",
    "                    list of actions for 4 actions\n",
    "        _s          1d array\n",
    "                    current state\n",
    "    \"\"\"\n",
    "    def __init__(self, fn):\n",
    "        # read a map from a file\n",
    "        self._map = self.read_map(fn)\n",
    "        self._size = np.asarray(self._map.shape)\n",
    "        self.goal_pos = np.where(self._map == 'G')\n",
    "\n",
    "        # definition of actions (left, right, up, and down repectively)\n",
    "        self._actions = [[0, -1], [0, 1], [-1, 0], [1, 0]]\n",
    "        self._s = None\n",
    "\n",
    "    def get_cur_state(self):\n",
    "        return self._s\n",
    "\n",
    "    def get_size(self):\n",
    "        return self._size\n",
    "\n",
    "    def read_map(self, fn):\n",
    "        grid = []\n",
    "        with open(fn) as f:\n",
    "            for line in f:\n",
    "               grid.append(list(line.strip()))\n",
    "        return np.asarray(grid)\n",
    "\n",
    "    def print_map(self):\n",
    "        print( self._map )\n",
    "\n",
    "    def check_state(self, s):\n",
    "        if isinstance(s, collections.Iterable) and len(s) == 2:\n",
    "            if s[0] < 0 or s[1] < 0 or\\\n",
    "               s[0] >= self._size[0] or s[1] >= self._size[1]:\n",
    "               return 'N'\n",
    "            return self._map[tuple(s)].upper()\n",
    "        else:\n",
    "            return 'F'  # wrong input\n",
    "\n",
    "    def init(self, state=None):\n",
    "        if state is None:\n",
    "            s = [0, 0]\n",
    "        else:\n",
    "            s = state\n",
    "\n",
    "        if self.check_state(s) == 'O':\n",
    "            self._s = np.asarray(state)\n",
    "        else:\n",
    "            raise ValueError(\"Invalid state for init\")\n",
    "\n",
    "    def next(self, a):\n",
    "        s1 = self._s + self._actions[a]\n",
    "        # state transition\n",
    "        curr = self.check_state(s1)\n",
    "        \n",
    "        if curr == 'H' or curr == 'N':\n",
    "            return -5\n",
    "        elif curr == 'F':\n",
    "            warnings.warn(\"invalid state \" + str(s1))\n",
    "            return -5\n",
    "        elif curr == 'G':\n",
    "            self._s = s1\n",
    "            return 30\n",
    "        else:\n",
    "            self._s = s1\n",
    "            return -1\n",
    "        \n",
    "    def is_goal(self):\n",
    "        return self.check_state(self._s) == 'G'\n",
    "            \n",
    "    def get_actions(self):\n",
    "        return self._actions"
   ]
  },
  {
   "cell_type": "markdown",
   "metadata": {},
   "source": [
    "Explanation of the GridWorld:\n",
    "\n",
    "We need to set award and punishment for our problem solving method. There are 4 randomly steps that can be taken at each grid or state. L,R,U,D. We set a punishment -1 for each step, because we want to choose the shortest step at the end.\n",
    "\n",
    "First thing is a reader. We need to read the map, and see what is the size of map (two dimensions) and determine the state of goal on the map.\n",
    "\n",
    "Also we need to define the random actions by their vector representatives. \n",
    "\n",
    "We need to define a function that checks the current state after each random action, if it is outside the walls, inside and inside a hole, inside and in an empty spot, or on the goal.\n",
    "\n",
    "Then we check if the state is inside the map, with another function. We need a function to check so if the current state is outside the 4 outside walls, its axis element is either below zero or bigger than the size of map.\n",
    "\n",
    "We need initializer, which put us in (0,0) position of the map if the initial state is not already defined. Also, if our initial input state is out side of the wall, we should not allow the input.\n",
    "\n",
    "With a function (next) we just go to next step by adding the arbitrary step to the current state.\n",
    "\n",
    "Here the rewards are determined. If our next step goes to a wall or outside of a wall penalize -5, other wise if we are at goal we reward +30, and if not goal but a free state penalize -1.\n",
    "\n"
   ]
  },
  {
   "cell_type": "code",
   "execution_count": 5,
   "metadata": {
    "scrolled": true
   },
   "outputs": [
    {
     "name": "stdout",
     "output_type": "stream",
     "text": [
      "[['O' 'O' 'O' 'H' 'O' 'O' 'O' 'O' 'O']\n",
      " ['O' 'O' 'O' 'H' 'O' 'O' 'H' 'O' 'O']\n",
      " ['O' 'O' 'O' 'O' 'O' 'O' 'H' 'O' 'O']\n",
      " ['O' 'O' 'O' 'O' 'H' 'H' 'H' 'O' 'O']\n",
      " ['O' 'O' 'H' 'O' 'O' 'O' 'O' 'O' 'H']\n",
      " ['O' 'O' 'H' 'O' 'O' 'O' 'G' 'O' 'O']\n",
      " ['O' 'O' 'O' 'O' 'O' 'O' 'O' 'O' 'O']]\n"
     ]
    },
    {
     "data": {
      "text/plain": [
       "-1"
      ]
     },
     "execution_count": 5,
     "metadata": {},
     "output_type": "execute_result"
    }
   ],
   "source": [
    "import collections\n",
    "env = GridWorld(\"grid.txt\")\n",
    "env.print_map()\n",
    "env.check_state([2,3])\n",
    "env.init([0,0])\n",
    "env.next(1)"
   ]
  },
  {
   "cell_type": "markdown",
   "metadata": {},
   "source": [
    "All commands checked and works well.\n",
    "\n",
    "The following command takes the state to the top left of coordinator."
   ]
  },
  {
   "cell_type": "code",
   "execution_count": 6,
   "metadata": {},
   "outputs": [],
   "source": [
    "# top-left to (0,0)\n",
    "def coord_convert(s, sz):\n",
    "    return [s[1], sz[0]-s[0]-1]"
   ]
  },
  {
   "cell_type": "markdown",
   "metadata": {},
   "source": [
    "# Methods\n",
    "\n",
    "\n",
    "Review of the SARSA and Q-Learning :\n",
    "\n",
    "\n",
    "Q is the transition matrix we have to update it at each simulation. Q tells us what is the probability of being at one state and taking a particular action and go to other state based on the reward system. We usually take the maximum probability among all of the simulations in Q (Note Q has a time dimension through many simulations), and we chose the action with the highest probability.\n",
    "\n",
    "\n",
    "To update with  **SARSA**. method:\n",
    "\n",
    "$$\n",
    "    Q(s_t, a_t) \\leftarrow Q(s_t, a_t) + \\alpha ( R_{t+1} + \\gamma Q(s_{t+1}, a_{t+1}) - Q(s_t, a_t)) \n",
    "$$\n",
    "\n",
    "Where $s_t$ is the current state at time $t$, $\\alpha, \\gamma$ are parameters, and $a_{t}$ is action at time $t$, and $R_{t}$ is a reward at time $t$ for that particular simulation. \n",
    "\n",
    "or **Q-learning**. \n",
    "\n",
    "\n",
    "$$\n",
    "    Q(s_t, a_t) \\leftarrow Q(s_t, a_t) + \\alpha ( R_{t+1} + \\gamma \\max_a Q(s_{t+1}, a) - Q(s_t, a_t)) \n",
    "$$\n",
    "\n",
    "Here describes each algorithm. \n",
    "\n",
    "\n",
    "**[Algorithm: TD Learning]**\n",
    "![](http://incompleteideas.net/book/ebook/pseudotmp7.png)\n",
    "\n",
    "**[Algorithm: SARSA]**\n",
    "![](http://incompleteideas.net/book/ebook/pseudotmp8.png)\n",
    "\n",
    "\n",
    "**[Algorithm: Q-learning]**\n",
    "![](http://incompleteideas.net/book/ebook/pseudotmp9.png)\n",
    "\n",
    "\n",
    "\n",
    "\n",
    "\n",
    "\n",
    "\n",
    "\n",
    "- Decide your TD learning approach: SARSA or Q-learning? \n",
    "\n",
    "I decide to use SARSA for simplicity in the algorithm. I think the complexity of algorithm would go higher if I chose Q-learning due to finding the maximum of Q after n simulation which is O(n), and it would be time consuming.\n",
    "\n",
    "- Describe your approach and the reason why you select it.\n",
    "\n",
    "So I update my Q with SARSA after many simulations and at the end I have the updated Q and I can test it.\n",
    "About the maze the state is clear as defined and explained in Gridworld. The reward is also clearly explained as -1,30,-5,....\n",
    " \n",
    "\n",
    "- Finish epsilon_greedy function and other TODOs. Explain it.\n",
    "\n",
    "In epsilon greedy, we chose a random number between 0 and 1. We have a fixed epsilon as threshold, and if our chosen number is greater than the epsilon we find the argument of the maximum probability of Q, through the simulations. This will give us the most probable action should be taken through all of the simulations with respect to rewards.\n",
    "\n",
    "Code is completed.\n",
    "\n",
    "- Explain your codes.\n",
    "\n",
    "In the following:\n",
    "\n"
   ]
  },
  {
   "cell_type": "markdown",
   "metadata": {},
   "source": [
    "## RLAgent for Maze\n",
    "\n",
    "Read the understand the codes below and explain it with your words. \n",
    "Do NOT forget to answer the question. \n",
    "\n",
    "We have an agent class which takes random actions in the maze env.\n",
    "\n",
    "We start our transition matrix with Q=0 matrix.\n",
    "\n",
    "The epsilon greedy function as explained  above finds the argmax of the Q through the simulation for a particular  state and tells us after all of these simulation where should we go with high probability to get better reward.\n",
    "\n",
    "\n",
    "Parameters  for Sarsa are fixed (will be explained later).\n",
    "\n",
    "We need to keep track of our reward (rtrace), and steps and trace.\n",
    "\n",
    "So we run many iterations and we take random actions and with respect to the reward and action we took we update our Q over and over again at each simulations.\n",
    "\n",
    "We should know at state (2,3) what is the most probable  action to be taken and get the most reward. For example it is \"up\".\n",
    "\n",
    "\n",
    "At the end when we trained through the simulation and updated our Q, we test our policy by simply a test function that changes the starting point (with initializer) and using the updated Q ties to get to maze.\n",
    "\n",
    "\n"
   ]
  },
  {
   "cell_type": "markdown",
   "metadata": {},
   "source": [
    "### Answer to the question in the code: \n",
    "\n",
    "The question is why Q is update as 0 when we are at goal. It is obvious that we do not want to go any where else when we get to goal so Q for the state of goal should be zero for any action or no action should be taken from there.\n",
    "\n"
   ]
  },
  {
   "cell_type": "code",
   "execution_count": 7,
   "metadata": {},
   "outputs": [],
   "source": [
    "class RLAgent: \n",
    "    \"\"\"\n",
    "        Reinforcement Learning Agent Model for training/testing\n",
    "        with Tabular function approximation\n",
    "        \n",
    "    \"\"\"\n",
    "    \n",
    "    def __init__(self, env):\n",
    "        self.env = env\n",
    "        self.size = env.get_size()\n",
    "        self.n_a = len(env.get_actions())\n",
    "        # self.Q table including the surrounding border\n",
    "        self.Q = np.zeros((self.size[0], self.size[1], self.n_a))\n",
    "    \n",
    "    def epsilon_greed(self, epsilon, s):\n",
    "        if np.random.rand() < epsilon:\n",
    "            return np.random.randint(self.n_a)\n",
    "        else:\n",
    "            #print(np.argmax(self.Q[s]),self.Q[s])\n",
    "            #print(np.argmax(self.Q[s[0],s[1],:]),self.Q[s[0],s[1],:])\n",
    "            return np.argmax(self.Q[s[0],s[1],:])\n",
    "    \n",
    "    def train(self, start, **params):\n",
    "        \n",
    "        # parameters\n",
    "        gamma = params.pop('gamma', 0.99)\n",
    "        alpha = params.pop('alpha', 0.1)\n",
    "        epsilon= params.pop('epsilon', 0.1)\n",
    "        maxiter= params.pop('maxiter', 1000) \n",
    "        maxstep= params.pop('maxstep', 1000)\n",
    "        \n",
    "        # init self.Q matrix\n",
    "        self.Q[...] = 0\n",
    "        self.Q[self.env._map == 'H'] = -np.inf\n",
    "        \n",
    "        # online train\n",
    "        # rewards and step trace\n",
    "        rtrace = []\n",
    "        steps = []\n",
    "        \n",
    "        for j in range(maxiter):\n",
    "\n",
    "            self.env.init(start)\n",
    "            s = self.env.get_cur_state()\n",
    "            # selection an action\n",
    "            a = self.epsilon_greed(epsilon, s)\n",
    "\n",
    "            rewards = []\n",
    "            trace = np.array(coord_convert(s, self.size))\n",
    "            # run simulation for max number of steps \n",
    "            for step in range(maxstep):\n",
    "                # move\n",
    "                r = self.env.next(a)\n",
    "                s1 = self.env.get_cur_state()\n",
    "                a1 = self.epsilon_greed(epsilon, s1)\n",
    "\n",
    "                rewards.append(r)\n",
    "                trace = np.vstack((trace, coord_convert(s1, self.size)))\n",
    "                #print(alpha * (r + gamma * self.Q[s1[0],s1[1], a1] - self.Q[s[0],s[1],a]))\n",
    "                #print(self.Q[s[0],s[1], a] )\n",
    "                #print(a,a1)\n",
    "                self.Q[s[0],s[1], a] += alpha * (r + gamma * self.Q[s1[0],s1[1], a1] - self.Q[s[0],s[1],a])\n",
    "                #break\n",
    "      \n",
    "               \n",
    "                if self.env.is_goal(): # reached the goal\n",
    "                    # TODO: Why is this zero? Describe this in your code explanation.\n",
    "                    self.Q[s1[0], s1[1], a1] = 0\n",
    "                    break\n",
    "\n",
    "                s = s1\n",
    "                a = a1\n",
    "\n",
    "            rtrace.append(np.sum(rewards))\n",
    "            steps.append(step+1)\n",
    "            #print(goal)\n",
    "            #print('>>',steps)\n",
    "            #print(self.Q)\n",
    "        return rtrace, steps, trace # last trace of trajectory\n",
    "\n",
    "    def test(self, start, maxstep=1000):\n",
    "       # for j in range(1):\n",
    "        epsilon=0.1\n",
    "        self.env.init(start)\n",
    "        s = self.env.get_cur_state()\n",
    "        a = self.epsilon_greed(epsilon, s)\n",
    "        rewards = []\n",
    "        trace = np.array(coord_convert(s, self.size))\n",
    "        for step in range(maxstep):\n",
    "                r = self.env.next(a)\n",
    "                s1 = self.env.get_cur_state()\n",
    "                a1 = self.epsilon_greed(epsilon, s1)\n",
    "                rewards.append(r)\n",
    "                trace = np.vstack((trace, coord_convert(s1, self.size)))\n",
    "                \n",
    "                if self.env.is_goal():\n",
    "                    #self.Q[s1[0], s1[1], a1] = 0\n",
    "                    break\n",
    "                    \n",
    "                s = s1\n",
    "                a = a1\n",
    "        # TODO: Add your test routine that exmines learned policy\n",
    "        #      Using the learned policy, generate the trajectory of \n",
    "\n",
    "        return trace            "
   ]
  },
  {
   "cell_type": "markdown",
   "metadata": {},
   "source": [
    "The following is to find the best parameters. I have decreased the maxstep till I found that the goal can be achieved by setting maxstep as lowest as 50 as well.\n",
    "Goal achieved if that number at the end is 20 which is the reward of smallest number of steps. \n",
    "!!\n"
   ]
  },
  {
   "cell_type": "code",
   "execution_count": 8,
   "metadata": {
    "scrolled": true
   },
   "outputs": [
    {
     "data": {
      "text/plain": [
       "20"
      ]
     },
     "execution_count": 8,
     "metadata": {},
     "output_type": "execute_result"
    }
   ],
   "source": [
    "agent = RLAgent(env)\n",
    "start = [0,0]\n",
    "a=agent.train(start, \n",
    "                                   gamma=0.9, \n",
    "                                   alpha=0.1, \n",
    "                                   epsilon=0.1, \n",
    "                                   maxiter=100, \n",
    "                                   maxstep=50)\n",
    "a[0][np.argmin(a[1])]# this is goal achieved if it is 20 and \n"
   ]
  },
  {
   "cell_type": "markdown",
   "metadata": {},
   "source": [
    "# IV - Results maze\n",
    "\n",
    "- Describe the choice of your parameters for $\\gamma$, $\\alpha$, and $\\epsilon$. \n",
    "\n",
    "* $\\gamma$ : a discount factor initially  it is 0.99\n",
    "\n",
    "* $\\alpha$ : controls how much the temporal difference affect our updating here is initially  0.1\n",
    "\n",
    "* $\\epsilon$ : initially  is 0.1, this is the parameter of $\\epsilon$ greedy function when we want to see if a random  number between 0 and 1 is less than this or not. If that random number is bigger than epsilon  we chose the argmax of Q matrix. If that number  is smaller than epsilon we chose the maximum of the size as the action (last action).\n",
    "\n",
    "\n",
    "*  maxiter : number of simulations through which we update the Q\n",
    "\n",
    "* maxstep : we limit the number of steps taken to get to goal. Otherwise any policy with unlimited  steps can get to goal and stay there forever.\n",
    "\n",
    "\n",
    "\n",
    "\n",
    "\n",
    "\n",
    "\n",
    "  - Run experiments to find good parameters\n",
    "  \n",
    "  Done below: so I assume after many times running from one of the plots the following set of parameters is good enough and work as fine as others.\n",
    "  \n",
    "  \n",
    "  \n",
    "  - Show the experimental outputs to show the process of your selection\n",
    "  \n",
    "  above done: maxstep is 20\n",
    "  \n",
    "- Visualize the results and explain outputs (even from mine.)\n",
    "below"
   ]
  },
  {
   "cell_type": "markdown",
   "metadata": {},
   "source": [
    "### Utility functions for Plotting\n",
    "\n",
    "- We simply finish the plotting tools to see the results."
   ]
  },
  {
   "cell_type": "code",
   "execution_count": 9,
   "metadata": {},
   "outputs": [],
   "source": [
    "### Plotting tools \n",
    "\n",
    "def plot_trace(agent, start, trace, title=\"test trajectory\"):\n",
    "    plt.plot(trace[:, 0], trace[:, 1], \"ko-\")\n",
    "    plt.text(env.goal_pos[1], agent.size[0]-env.goal_pos[0]-1, 'G')\n",
    "    plt.text(start[1], agent.size[0]-start[0]-1, 'S')\n",
    "    plt.xlim([0, agent.size[1]])\n",
    "    plt.ylim([0, agent.size[0]])\n",
    "    \n",
    "    \n",
    "\n",
    "    \n",
    "def plot_train(agent, rtrace, steps, trace, start):\n",
    "\n",
    "    fig = plt.figure(figsize=(10,8))\n",
    "    ax = fig.add_subplot(221)\n",
    "    #print(rtrace)\n",
    "    plt.plot(rtrace)\n",
    "    plt.ylabel(\"sum of rewards\")\n",
    "\n",
    "    ax1 = fig.add_subplot(222)\n",
    "    plt.plot(steps)\n",
    "    \n",
    "    plt.ylabel(\"# steps\")\n",
    "\n",
    "    # contour plot for agent.Q\n",
    "    ax2 = fig.add_subplot(223)\n",
    "    xs = range(agent.size[1])\n",
    "    ys = range(agent.size[0])\n",
    "    maxQ = np.max(agent.Q, axis=2)\n",
    "    h_b = (maxQ==-np.inf)\n",
    "    maxQ[h_b] = 0\n",
    "    maxQ[h_b] = np.min(maxQ) - 100\n",
    "    cs = plt.contourf(xs, ys[::-1], maxQ)\n",
    "    plt.colorbar(cs)\n",
    "    plt.text(env.goal_pos[1], agent.size[0]-env.goal_pos[0]-1, 'G')\n",
    "    plt.text(start[1], agent.size[0]-start[0]-1, 'S')\n",
    "    plt.ylabel(\"max agent.Q\")\n",
    "\n",
    "    # plot traces\n",
    "    ax3 = fig.add_subplot(224)\n",
    "    plot_trace(agent, start, trace, \"trace of the last episode\")\n",
    "\n",
    "    plt.plot()"
   ]
  },
  {
   "cell_type": "markdown",
   "metadata": {},
   "source": [
    "### Training and Testing with GridWorld\n",
    "\n",
    "Experimental outputs"
   ]
  },
  {
   "cell_type": "code",
   "execution_count": 33,
   "metadata": {
    "scrolled": true
   },
   "outputs": [],
   "source": [
    "agent = RLAgent(env)\n",
    "start = [0,0]\n",
    "rtrace, steps, trace = agent.train(start, \n",
    "                                   gamma=0.8, \n",
    "                                   alpha=0.1, \n",
    "                                   epsilon=0.2, \n",
    "                                   maxiter=10000, \n",
    "                                   maxstep=90)"
   ]
  },
  {
   "cell_type": "code",
   "execution_count": 34,
   "metadata": {
    "scrolled": true
   },
   "outputs": [
    {
     "data": {
      "image/png": "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\n",
      "text/plain": [
       "<Figure size 720x576 with 5 Axes>"
      ]
     },
     "metadata": {
      "needs_background": "light"
     },
     "output_type": "display_data"
    }
   ],
   "source": [
    "\n",
    "plot_train(agent, rtrace, steps, trace, start)"
   ]
  },
  {
   "cell_type": "markdown",
   "metadata": {},
   "source": [
    "reading and analysis of learning results \n",
    "\n",
    "In training (starting at 0,0) we see as we predicted maxstep 50 is good enough. \n",
    "\n",
    "The plots :\n",
    "\n",
    "1st plot top left : shows sum of the reward goes to 20 when we get to 100 iteration which is desired number (20). (30 of goal- 10 steps)\n",
    "\n",
    "2nd plot top right : shows number of steps till we got stable and get to goal.\n",
    "\n",
    "the two other plots just show the policy result after simulations. \n",
    "\n",
    "\n",
    "\n",
    "In the following we test if the trained Q can find the goal staring from different points."
   ]
  },
  {
   "cell_type": "code",
   "execution_count": 38,
   "metadata": {},
   "outputs": [
    {
     "data": {
      "image/png": "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\n",
      "text/plain": [
       "<Figure size 432x288 with 1 Axes>"
      ]
     },
     "metadata": {
      "needs_background": "light"
     },
     "output_type": "display_data"
    }
   ],
   "source": [
    "test_start = [0,2]\n",
    "test_trace = agent.test(test_start)\n",
    "plot_trace(agent, test_start, test_trace)"
   ]
  },
  {
   "cell_type": "code",
   "execution_count": 39,
   "metadata": {},
   "outputs": [
    {
     "data": {
      "image/png": "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\n",
      "text/plain": [
       "<Figure size 432x288 with 1 Axes>"
      ]
     },
     "metadata": {
      "needs_background": "light"
     },
     "output_type": "display_data"
    }
   ],
   "source": [
    "test_start = [2,8]\n",
    "test_trace = agent.test(test_start)\n",
    "plot_trace(agent, test_start, test_trace)"
   ]
  },
  {
   "cell_type": "markdown",
   "metadata": {},
   "source": [
    "# V. Conclusions\n",
    "\n",
    "The main challenge is to define the state and Q in different problems.the updating process looks easy once we determine the reward.\n",
    "\n",
    "Sometimes the higher learning rate does not show a good result in terms of being stable and higher epsilon shows a fluctuating path. \n",
    "\n",
    "The reinforcement learning is the use of probability transition matrix in terms of finding the maximum probable action through many iterations ( maximum probability based on the reward system). This can be used in many areas like robot walking and auto-driving I assume.\n",
    "\n",
    "\n"
   ]
  }
 ],
 "metadata": {
  "kernelspec": {
   "display_name": "Python 3",
   "language": "python",
   "name": "python3"
  },
  "language_info": {
   "codemirror_mode": {
    "name": "ipython",
    "version": 3
   },
   "file_extension": ".py",
   "mimetype": "text/x-python",
   "name": "python",
   "nbconvert_exporter": "python",
   "pygments_lexer": "ipython3",
   "version": "3.7.8"
  }
 },
 "nbformat": 4,
 "nbformat_minor": 4
}
