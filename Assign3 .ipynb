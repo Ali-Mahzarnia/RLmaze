{
 "cells": [
  {
   "cell_type": "markdown",
   "metadata": {},
   "source": [
    "# Assignment #3 - Reinforcement Learning\n",
    "\n",
    "### "
   ]
  },
  {
   "cell_type": "code",
   "execution_count": null,
   "metadata": {},
   "outputs": [],
   "source": []
  },
  {
   "cell_type": "markdown",
   "metadata": {},
   "source": [
    "<font color=\"blue\">Ali Mahzarnia </font>"
   ]
  },
  {
   "cell_type": "markdown",
   "metadata": {},
   "source": [
    "# I. Overview\n",
    "\n",
    "In this assignment, we try to implement the reinforcement learning to find the right path in a maze."
   ]
  },
  {
   "cell_type": "markdown",
   "metadata": {},
   "source": [
    "# II. Problems \n",
    "\n",
    "## A. Maze Problem (Practice)\n",
    "\n",
    "Description of maze problem:\n",
    "In this problem we first set a fixed maze, (Four outside walls, and some inside wall, a starting point and a goal). We let the random decision lead the way for multiple times. We reward getting close to goal , and we heavily punish hitting the wall by negative infinity reward. The transition matrix, which is updated through the many simulations can help us to find the maze from a new starting point. To update the transition matrix Q we can take Q learning or SARSA approach."
   ]
  },
  {
   "cell_type": "code",
   "execution_count": 1,
   "metadata": {},
   "outputs": [],
   "source": [
    "import collections\n",
    "import numpy as np\n",
    "import matplotlib.pyplot as plt\n",
    "%matplotlib inline"
   ]
  },
  {
   "cell_type": "markdown",
   "metadata": {},
   "source": [
    "### Sample Grid Environment File\n",
    "\n",
    "Simple text file with three characters, 'O', 'H', and 'G'.\n",
    "- 'O': open space\n",
    "- 'H': Wall or obstacles\n",
    "- 'G': Goal location "
   ]
  },
  {
   "cell_type": "code",
   "execution_count": 2,
   "metadata": {},
   "outputs": [
    {
     "name": "stdout",
     "output_type": "stream",
     "text": [
      "OOOHOOOOO\n",
      "OOOHOOHOO\n",
      "OOOOOOHOO\n",
      "OOOOHHHOO\n",
      "OOHOOOOOH\n",
      "OOHOOOGOO\n",
      "OOOOOOOOO"
     ]
    }
   ],
   "source": [
    "%%bash \n",
    "cat grid.txt"
   ]
  },
  {
   "cell_type": "markdown",
   "metadata": {},
   "source": [
    "### GridWorld Class\n"
   ]
  },
  {
   "cell_type": "code",
   "execution_count": 3,
   "metadata": {},
   "outputs": [],
   "source": [
    "# maze example\n",
    "\n",
    "class GridWorld:\n",
    "    \"\"\" Grid World environment\n",
    "            there are four actions (left, right, up, and down) to move an agent\n",
    "            In a grid, if it reaches a goal, it get 30 points of reward.\n",
    "            If it falls in a hole or moves out of the grid world, it gets -5.\n",
    "            Each step costs -1 point. \n",
    "\n",
    "        to test GridWorld, run the following sample codes:\n",
    "\n",
    "            env = GridWorld('grid.txt')\n",
    "\n",
    "            env.print_map()\n",
    "            print [2,3], env.check_state([2,3])\n",
    "            print [0,0], env.check_state([0,0])\n",
    "            print [3,4], env.check_state([3,4])\n",
    "            print [10,3], env.check_state([10,3])\n",
    "\n",
    "            env.init([0,0])\n",
    "            print env.next(1)  # right\n",
    "            print env.next(3)  # down\n",
    "            print env.next(0)  # left\n",
    "            print env.next(2)  # up\n",
    "            print env.next(2)  # up\n",
    "\n",
    "        Parameters\n",
    "        ==========\n",
    "        _map        ndarray\n",
    "                    string array read from a file input\n",
    "        _size       1d array\n",
    "                    the size of _map in ndarray\n",
    "        goal_pos    tuple\n",
    "                    the index for the goal location\n",
    "        _actions    list\n",
    "                    list of actions for 4 actions\n",
    "        _s          1d array\n",
    "                    current state\n",
    "    \"\"\"\n",
    "    def __init__(self, fn):\n",
    "        # read a map from a file\n",
    "        self._map = self.read_map(fn)\n",
    "        self._size = np.asarray(self._map.shape)\n",
    "        self.goal_pos = np.where(self._map == 'G')\n",
    "\n",
    "        # definition of actions (left, right, up, and down repectively)\n",
    "        self._actions = [[0, -1], [0, 1], [-1, 0], [1, 0]]\n",
    "        self._s = None\n",
    "\n",
    "    def get_cur_state(self):\n",
    "        return self._s\n",
    "\n",
    "    def get_size(self):\n",
    "        return self._size\n",
    "\n",
    "    def read_map(self, fn):\n",
    "        grid = []\n",
    "        with open(fn) as f:\n",
    "            for line in f:\n",
    "               grid.append(list(line.strip()))\n",
    "        return np.asarray(grid)\n",
    "\n",
    "    def print_map(self):\n",
    "        print( self._map )\n",
    "\n",
    "    def check_state(self, s):\n",
    "        if isinstance(s, collections.Iterable) and len(s) == 2:\n",
    "            if s[0] < 0 or s[1] < 0 or\\\n",
    "               s[0] >= self._size[0] or s[1] >= self._size[1]:\n",
    "               return 'N'\n",
    "            return self._map[tuple(s)].upper()\n",
    "        else:\n",
    "            return 'F'  # wrong input\n",
    "\n",
    "    def init(self, state=None):\n",
    "        if state is None:\n",
    "            s = [0, 0]\n",
    "        else:\n",
    "            s = state\n",
    "\n",
    "        if self.check_state(s) == 'O':\n",
    "            self._s = np.asarray(state)\n",
    "        else:\n",
    "            raise ValueError(\"Invalid state for init\")\n",
    "\n",
    "    def next(self, a):\n",
    "        s1 = self._s + self._actions[a]\n",
    "        # state transition\n",
    "        curr = self.check_state(s1)\n",
    "        \n",
    "        if curr == 'H' or curr == 'N':\n",
    "            return -5\n",
    "        elif curr == 'F':\n",
    "            warnings.warn(\"invalid state \" + str(s1))\n",
    "            return -5\n",
    "        elif curr == 'G':\n",
    "            self._s = s1\n",
    "            return 30\n",
    "        else:\n",
    "            self._s = s1\n",
    "            return -1\n",
    "        \n",
    "    def is_goal(self):\n",
    "        return self.check_state(self._s) == 'G'\n",
    "            \n",
    "    def get_actions(self):\n",
    "        return self._actions"
   ]
  },
  {
   "cell_type": "markdown",
   "metadata": {},
   "source": [
    "Explanation of the GridWorld:\n",
    "\n",
    "We need to set award and punishment for our problem solving method. There are 4 randomly steps that can be taken at each grid or state. L,R,U,D. We set a punishment -1 for each step, because we want to choose the shortest step at the end.\n",
    "\n",
    "First thing is a reader. We need to read the map, and see what is the size of map (two dimensions) and determine the state of goal on the map.\n",
    "\n",
    "Also we need to define the random actions by their vector representatives. \n",
    "\n",
    "We need to define a function that checks the current state after each random action, if it is outside the walls, inside and inside a hole, inside and in an empty spot, or on the goal.\n",
    "\n",
    "Then we check if the state is inside the map, with another function. We need a function to check so if the current state is outside the 4 outside walls, its axis element is either below zero or bigger than the size of map.\n",
    "\n",
    "We need initializer, which put us in (0,0) position of the map if the initial state is not already defined. Also, if our initial input state is out side of the wall, we should not allow the input.\n",
    "\n",
    "With a function (next) we just go to next step by adding the arbitrary step to the current state.\n",
    "\n",
    "Here the rewards are determined. If our next step goes to a wall or outside of a wall penalize -5, other wise if we are at goal we reward +30, and if not goal but a free state penalize -1.\n",
    "\n"
   ]
  },
  {
   "cell_type": "code",
   "execution_count": 5,
   "metadata": {
    "scrolled": true
   },
   "outputs": [
    {
     "name": "stdout",
     "output_type": "stream",
     "text": [
      "[['O' 'O' 'O' 'H' 'O' 'O' 'O' 'O' 'O']\n",
      " ['O' 'O' 'O' 'H' 'O' 'O' 'H' 'O' 'O']\n",
      " ['O' 'O' 'O' 'O' 'O' 'O' 'H' 'O' 'O']\n",
      " ['O' 'O' 'O' 'O' 'H' 'H' 'H' 'O' 'O']\n",
      " ['O' 'O' 'H' 'O' 'O' 'O' 'O' 'O' 'H']\n",
      " ['O' 'O' 'H' 'O' 'O' 'O' 'G' 'O' 'O']\n",
      " ['O' 'O' 'O' 'O' 'O' 'O' 'O' 'O' 'O']]\n"
     ]
    },
    {
     "data": {
      "text/plain": [
       "-1"
      ]
     },
     "execution_count": 5,
     "metadata": {},
     "output_type": "execute_result"
    }
   ],
   "source": [
    "import collections\n",
    "env = GridWorld(\"grid.txt\")\n",
    "env.print_map()\n",
    "env.check_state([2,3])\n",
    "env.init([0,0])\n",
    "env.next(1)"
   ]
  },
  {
   "cell_type": "markdown",
   "metadata": {},
   "source": [
    "All commands checked and works well.\n",
    "\n",
    "The following command takes the state to the top left of coordinator."
   ]
  },
  {
   "cell_type": "code",
   "execution_count": 6,
   "metadata": {},
   "outputs": [],
   "source": [
    "# top-left to (0,0)\n",
    "def coord_convert(s, sz):\n",
    "    return [s[1], sz[0]-s[0]-1]"
   ]
  },
  {
   "cell_type": "markdown",
   "metadata": {},
   "source": [
    "# Methods\n",
    "\n",
    "\n",
    "Review of the SARSA and Q-Learning :\n",
    "\n",
    "\n",
    "Q is the transition matrix we have to update it at each simulation. Q tells us what is the probability of being at one state and taking a particular action and go to other state based on the reward system. We usually take the maximum probability among all of the simulations in Q (Note Q has a time dimension through many simulations), and we chose the action with the highest probability.\n",
    "\n",
    "\n",
    "To update with  **SARSA**. method:\n",
    "\n",
    "$$\n",
    "    Q(s_t, a_t) \\leftarrow Q(s_t, a_t) + \\alpha ( R_{t+1} + \\gamma Q(s_{t+1}, a_{t+1}) - Q(s_t, a_t)) \n",
    "$$\n",
    "\n",
    "Where $s_t$ is the current state at time $t$, $\\alpha, \\gamma$ are parameters, and $a_{t}$ is action at time $t$, and $R_{t}$ is a reward at time $t$ for that particular simulation. \n",
    "\n",
    "or **Q-learning**. \n",
    "\n",
    "\n",
    "$$\n",
    "    Q(s_t, a_t) \\leftarrow Q(s_t, a_t) + \\alpha ( R_{t+1} + \\gamma \\max_a Q(s_{t+1}, a) - Q(s_t, a_t)) \n",
    "$$\n",
    "\n",
    "Here describes each algorithm. \n",
    "\n",
    "\n",
    "**[Algorithm: TD Learning]**\n",
    "![](http://incompleteideas.net/book/ebook/pseudotmp7.png)\n",
    "\n",
    "**[Algorithm: SARSA]**\n",
    "![](http://incompleteideas.net/book/ebook/pseudotmp8.png)\n",
    "\n",
    "\n",
    "**[Algorithm: Q-learning]**\n",
    "![](http://incompleteideas.net/book/ebook/pseudotmp9.png)\n",
    "\n",
    "\n",
    "\n",
    "\n",
    "\n",
    "\n",
    "\n",
    "\n",
    "- Decide your TD learning approach: SARSA or Q-learning? \n",
    "\n",
    "I decide to use SARSA for simplicity in the algorithm. I think the complexity of algorithm would go higher if I chose Q-learning due to finding the maximum of Q after n simulation which is O(n), and it would be time consuming.\n",
    "\n",
    "- Describe your approach and the reason why you select it.\n",
    "\n",
    "So I update my Q with SARSA after many simulations and at the end I have the updated Q and I can test it.\n",
    "About the maze the state is clear as defined and explained in Gridworld. The reward is also clearly explained as -1,30,-5,....\n",
    " \n",
    "\n",
    "- Finish epsilon_greedy function and other TODOs. Explain it.\n",
    "\n",
    "In epsilon greedy, we chose a random number between 0 and 1. We have a fixed epsilon as threshold, and if our chosen number is greater than the epsilon we find the argument of the maximum probability of Q, through the simulations. This will give us the most probable action should be taken through all of the simulations with respect to rewards.\n",
    "\n",
    "Code is completed.\n",
    "\n",
    "- Explain your codes.\n",
    "\n",
    "In the following:\n",
    "\n"
   ]
  },
  {
   "cell_type": "markdown",
   "metadata": {},
   "source": [
    "## RLAgent for Maze\n",
    "\n",
    "Read the understand the codes below and explain it with your words. \n",
    "Do NOT forget to answer the question. \n",
    "\n",
    "We have an agent class which takes random actions in the maze env.\n",
    "\n",
    "We start our transition matrix with Q=0 matrix.\n",
    "\n",
    "The epsilon greedy function as explained  above finds the argmax of the Q through the simulation for a particular  state and tells us after all of these simulation where should we go with high probability to get better reward.\n",
    "\n",
    "\n",
    "Parameters  for Sarsa are fixed (will be explained later).\n",
    "\n",
    "We need to keep track of our reward (rtrace), and steps and trace.\n",
    "\n",
    "So we run many iterations and we take random actions and with respect to the reward and action we took we update our Q over and over again at each simulations.\n",
    "\n",
    "We should know at state (2,3) what is the most probable  action to be taken and get the most reward. For example it is \"up\".\n",
    "\n",
    "\n",
    "At the end when we trained through the simulation and updated our Q, we test our policy by simply a test function that changes the starting point (with initializer) and using the updated Q ties to get to maze.\n",
    "\n",
    "\n"
   ]
  },
  {
   "cell_type": "markdown",
   "metadata": {},
   "source": [
    "### Answer to the question in the code: \n",
    "\n",
    "The question is why Q is update as 0 when we are at goal. It is obvious that we do not want to go any where else when we get to goal so Q for the state of goal should be zero for any action or no action should be taken from there.\n",
    "\n"
   ]
  },
  {
   "cell_type": "code",
   "execution_count": 7,
   "metadata": {},
   "outputs": [],
   "source": [
    "class RLAgent: \n",
    "    \"\"\"\n",
    "        Reinforcement Learning Agent Model for training/testing\n",
    "        with Tabular function approximation\n",
    "        \n",
    "    \"\"\"\n",
    "    \n",
    "    def __init__(self, env):\n",
    "        self.env = env\n",
    "        self.size = env.get_size()\n",
    "        self.n_a = len(env.get_actions())\n",
    "        # self.Q table including the surrounding border\n",
    "        self.Q = np.zeros((self.size[0], self.size[1], self.n_a))\n",
    "    \n",
    "    def epsilon_greed(self, epsilon, s):\n",
    "        if np.random.rand() < epsilon:\n",
    "            return np.random.randint(self.n_a)\n",
    "        else:\n",
    "            #print(np.argmax(self.Q[s]),self.Q[s])\n",
    "            #print(np.argmax(self.Q[s[0],s[1],:]),self.Q[s[0],s[1],:])\n",
    "            return np.argmax(self.Q[s[0],s[1],:])\n",
    "    \n",
    "    def train(self, start, **params):\n",
    "        \n",
    "        # parameters\n",
    "        gamma = params.pop('gamma', 0.99)\n",
    "        alpha = params.pop('alpha', 0.1)\n",
    "        epsilon= params.pop('epsilon', 0.1)\n",
    "        maxiter= params.pop('maxiter', 1000) \n",
    "        maxstep= params.pop('maxstep', 1000)\n",
    "        \n",
    "        # init self.Q matrix\n",
    "        self.Q[...] = 0\n",
    "        self.Q[self.env._map == 'H'] = -np.inf\n",
    "        \n",
    "        # online train\n",
    "        # rewards and step trace\n",
    "        rtrace = []\n",
    "        steps = []\n",
    "        \n",
    "        for j in range(maxiter):\n",
    "\n",
    "            self.env.init(start)\n",
    "            s = self.env.get_cur_state()\n",
    "            # selection an action\n",
    "            a = self.epsilon_greed(epsilon, s)\n",
    "\n",
    "            rewards = []\n",
    "            trace = np.array(coord_convert(s, self.size))\n",
    "            # run simulation for max number of steps \n",
    "            for step in range(maxstep):\n",
    "                # move\n",
    "                r = self.env.next(a)\n",
    "                s1 = self.env.get_cur_state()\n",
    "                a1 = self.epsilon_greed(epsilon, s1)\n",
    "\n",
    "                rewards.append(r)\n",
    "                trace = np.vstack((trace, coord_convert(s1, self.size)))\n",
    "                #print(alpha * (r + gamma * self.Q[s1[0],s1[1], a1] - self.Q[s[0],s[1],a]))\n",
    "                #print(self.Q[s[0],s[1], a] )\n",
    "                #print(a,a1)\n",
    "                self.Q[s[0],s[1], a] += alpha * (r + gamma * self.Q[s1[0],s1[1], a1] - self.Q[s[0],s[1],a])\n",
    "                #break\n",
    "      \n",
    "               \n",
    "                if self.env.is_goal(): # reached the goal\n",
    "                    # TODO: Why is this zero? Describe this in your code explanation.\n",
    "                    self.Q[s1[0], s1[1], a1] = 0\n",
    "                    break\n",
    "\n",
    "                s = s1\n",
    "                a = a1\n",
    "\n",
    "            rtrace.append(np.sum(rewards))\n",
    "            steps.append(step+1)\n",
    "            #print(goal)\n",
    "            #print('>>',steps)\n",
    "            #print(self.Q)\n",
    "        return rtrace, steps, trace # last trace of trajectory\n",
    "\n",
    "    def test(self, start, maxstep=1000):\n",
    "       # for j in range(1):\n",
    "        epsilon=0.1\n",
    "        self.env.init(start)\n",
    "        s = self.env.get_cur_state()\n",
    "        a = self.epsilon_greed(epsilon, s)\n",
    "        rewards = []\n",
    "        trace = np.array(coord_convert(s, self.size))\n",
    "        for step in range(maxstep):\n",
    "                r = self.env.next(a)\n",
    "                s1 = self.env.get_cur_state()\n",
    "                a1 = self.epsilon_greed(epsilon, s1)\n",
    "                rewards.append(r)\n",
    "                trace = np.vstack((trace, coord_convert(s1, self.size)))\n",
    "                \n",
    "                if self.env.is_goal():\n",
    "                    #self.Q[s1[0], s1[1], a1] = 0\n",
    "                    break\n",
    "                    \n",
    "                s = s1\n",
    "                a = a1\n",
    "        # TODO: Add your test routine that exmines learned policy\n",
    "        #      Using the learned policy, generate the trajectory of \n",
    "\n",
    "        return trace            "
   ]
  },
  {
   "cell_type": "markdown",
   "metadata": {},
   "source": [
    "The following is to find the best parameters. I have decreased the maxstep till I found that the goal can be achieved by setting maxstep as lowest as 50 as well.\n",
    "Goal achieved if that number at the end is 20 which is the reward of smallest number of steps. \n",
    "!!\n"
   ]
  },
  {
   "cell_type": "code",
   "execution_count": 8,
   "metadata": {
    "scrolled": true
   },
   "outputs": [
    {
     "data": {
      "text/plain": [
       "20"
      ]
     },
     "execution_count": 8,
     "metadata": {},
     "output_type": "execute_result"
    }
   ],
   "source": [
    "agent = RLAgent(env)\n",
    "start = [0,0]\n",
    "a=agent.train(start, \n",
    "                                   gamma=0.9, \n",
    "                                   alpha=0.1, \n",
    "                                   epsilon=0.1, \n",
    "                                   maxiter=100, \n",
    "                                   maxstep=50)\n",
    "a[0][np.argmin(a[1])]# this is goal achieved if it is 20 and \n"
   ]
  },
  {
   "cell_type": "markdown",
   "metadata": {},
   "source": [
    "# IV - Results maze\n",
    "\n",
    "- Describe the choice of your parameters for $\\gamma$, $\\alpha$, and $\\epsilon$. \n",
    "\n",
    "* $\\gamma$ : a discount factor initially  it is 0.99\n",
    "\n",
    "* $\\alpha$ : controls how much the temporal difference affect our updating here is initially  0.1\n",
    "\n",
    "* $\\epsilon$ : initially  is 0.1, this is the parameter of $\\epsilon$ greedy function when we want to see if a random  number between 0 and 1 is less than this or not. If that random number is bigger than epsilon  we chose the argmax of Q matrix. If that number  is smaller than epsilon we chose the maximum of the size as the action (last action).\n",
    "\n",
    "\n",
    "*  maxiter : number of simulations through which we update the Q\n",
    "\n",
    "* maxstep : we limit the number of steps taken to get to goal. Otherwise any policy with unlimited  steps can get to goal and stay there forever.\n",
    "\n",
    "\n",
    "\n",
    "\n",
    "\n",
    "\n",
    "\n",
    "  - Run experiments to find good parameters\n",
    "  \n",
    "  Done below: so I assume after many times running from one of the plots the following set of parameters is good enough and work as fine as others.\n",
    "  \n",
    "  \n",
    "  \n",
    "  - Show the experimental outputs to show the process of your selection\n",
    "  \n",
    "  above done: maxstep is 20\n",
    "  \n",
    "- Visualize the results and explain outputs (even from mine.)\n",
    "below"
   ]
  },
  {
   "cell_type": "markdown",
   "metadata": {},
   "source": [
    "### Utility functions for Plotting\n",
    "\n",
    "- We simply finish the plotting tools to see the results."
   ]
  },
  {
   "cell_type": "code",
   "execution_count": 9,
   "metadata": {},
   "outputs": [],
   "source": [
    "### Plotting tools \n",
    "\n",
    "def plot_trace(agent, start, trace, title=\"test trajectory\"):\n",
    "    plt.plot(trace[:, 0], trace[:, 1], \"ko-\")\n",
    "    plt.text(env.goal_pos[1], agent.size[0]-env.goal_pos[0]-1, 'G')\n",
    "    plt.text(start[1], agent.size[0]-start[0]-1, 'S')\n",
    "    plt.xlim([0, agent.size[1]])\n",
    "    plt.ylim([0, agent.size[0]])\n",
    "    \n",
    "    \n",
    "\n",
    "    \n",
    "def plot_train(agent, rtrace, steps, trace, start):\n",
    "\n",
    "    fig = plt.figure(figsize=(10,8))\n",
    "    ax = fig.add_subplot(221)\n",
    "    #print(rtrace)\n",
    "    plt.plot(rtrace)\n",
    "    plt.ylabel(\"sum of rewards\")\n",
    "\n",
    "    ax1 = fig.add_subplot(222)\n",
    "    plt.plot(steps)\n",
    "    \n",
    "    plt.ylabel(\"# steps\")\n",
    "\n",
    "    # contour plot for agent.Q\n",
    "    ax2 = fig.add_subplot(223)\n",
    "    xs = range(agent.size[1])\n",
    "    ys = range(agent.size[0])\n",
    "    maxQ = np.max(agent.Q, axis=2)\n",
    "    h_b = (maxQ==-np.inf)\n",
    "    maxQ[h_b] = 0\n",
    "    maxQ[h_b] = np.min(maxQ) - 100\n",
    "    cs = plt.contourf(xs, ys[::-1], maxQ)\n",
    "    plt.colorbar(cs)\n",
    "    plt.text(env.goal_pos[1], agent.size[0]-env.goal_pos[0]-1, 'G')\n",
    "    plt.text(start[1], agent.size[0]-start[0]-1, 'S')\n",
    "    plt.ylabel(\"max agent.Q\")\n",
    "\n",
    "    # plot traces\n",
    "    ax3 = fig.add_subplot(224)\n",
    "    plot_trace(agent, start, trace, \"trace of the last episode\")\n",
    "\n",
    "    plt.plot()"
   ]
  },
  {
   "cell_type": "markdown",
   "metadata": {},
   "source": [
    "### Training and Testing with GridWorld\n",
    "\n",
    "Experimental outputs"
   ]
  },
  {
   "cell_type": "code",
   "execution_count": 26,
   "metadata": {
    "scrolled": true
   },
   "outputs": [],
   "source": [
    "agent = RLAgent(env)\n",
    "start = [0,0]\n",
    "rtrace, steps, trace = agent.train(start, \n",
    "                                   gamma=0.9, \n",
    "                                   alpha=0.1, \n",
    "                                   epsilon=0.05, \n",
    "                                   maxiter=10000, \n",
    "                                   maxstep=50)"
   ]
  },
  {
   "cell_type": "code",
   "execution_count": 27,
   "metadata": {
    "scrolled": true
   },
   "outputs": [
    {
     "data": {
      "image/png": "[encoded data removed]",
      "text/plain": [
       "<Figure size 720x576 with 5 Axes>"
      ]
     },
     "metadata": {
      "needs_background": "light"
     },
     "output_type": "display_data"
    }
   ],
   "source": [
    "\n",
    "plot_train(agent, rtrace, steps, trace, start)"
   ]
  },
  {
   "cell_type": "markdown",
   "metadata": {},
   "source": [
    "reading and analysis of learning results \n",
    "\n",
    "In training (starting at 0,0) we see as we predicted maxstep 50 is good enough. \n",
    "\n",
    "The plots :\n",
    "\n",
    "1st plot top left : shows sum of the reward goes to 20 when we get to 100 iteration which is desired number (20). (30 of goal- 10 steps)\n",
    "\n",
    "2nd plot top right : shows number of steps till we got stable and get to goal.\n",
    "\n",
    "the two other plots just show the policy result after simulations. \n",
    "\n",
    "\n",
    "\n",
    "In the following we test if the trained Q can find the goal staring from different points."
   ]
  },
  {
   "cell_type": "code",
   "execution_count": 29,
   "metadata": {},
   "outputs": [
    {
     "data": {
      "image/png": "[encoded data removed]",
      "text/plain": [
       "<Figure size 432x288 with 1 Axes>"
      ]
     },
     "metadata": {
      "needs_background": "light"
     },
     "output_type": "display_data"
    }
   ],
   "source": [
    "test_start = [0,2]\n",
    "test_trace = agent.test(test_start)\n",
    "plot_trace(agent, test_start, test_trace)"
   ]
  },
  {
   "cell_type": "code",
   "execution_count": 30,
   "metadata": {},
   "outputs": [
    {
     "data": {
      "image/png": "[encoded data removed]",
      "text/plain": [
       "<Figure size 432x288 with 1 Axes>"
      ]
     },
     "metadata": {
      "needs_background": "light"
     },
     "output_type": "display_data"
    }
   ],
   "source": [
    "test_start = [2,8]\n",
    "test_trace = agent.test(test_start)\n",
    "plot_trace(agent, test_start, test_trace)"
   ]
  },
  {
   "cell_type": "markdown",
   "metadata": {},
   "source": [
    "# V. Conclusions\n",
    "\n",
    "The main challenge is to define the state and Q in different problems.the updating process looks easy once we determine the reward.\n",
    "\n",
    "Sometimes the higher learning rate does not show a good result in terms of being stable and higher epsilon shows a fluctuating path. \n",
    "\n",
    "The reinforcement learning is the use of probability transition matrix in terms of finding the maximum probable action through many iterations ( maximum probability based on the reward system). This can be used in many areas like robot walking and auto-driving I assume.\n",
    "\n",
    "\n"
   ]
  },
  {
   "cell_type": "code",
   "execution_count": null,
   "metadata": {},
   "outputs": [],
   "source": []
  }
 ],
 "metadata": {
  "kernelspec": {
   "display_name": "Python 3",
   "language": "python",
   "name": "python3"
  },
  "language_info": {
   "codemirror_mode": {
    "name": "ipython",
    "version": 3
   },
   "file_extension": ".py",
   "mimetype": "text/x-python",
   "name": "python",
   "nbconvert_exporter": "python",
   "pygments_lexer": "ipython3",
   "version": "3.7.8"
  }
 },
 "nbformat": 4,
 "nbformat_minor": 4
}
